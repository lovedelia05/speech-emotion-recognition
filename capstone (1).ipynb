{
  "cells": [
    {
      "cell_type": "code",
      "execution_count": 3,
      "metadata": {
        "id": "A5go7XOAjStc",
        "colab": {
          "base_uri": "https://localhost:8080/"
        },
        "outputId": "fc377dc0-ad84-41e5-c532-81fdb33d9432"
      },
      "outputs": [
        {
          "output_type": "stream",
          "name": "stdout",
          "text": [
            "Requirement already satisfied: audiomentations in /usr/local/lib/python3.10/dist-packages (0.37.0)\n",
            "Requirement already satisfied: numpy<2,>=1.21.0 in /usr/local/lib/python3.10/dist-packages (from audiomentations) (1.26.4)\n",
            "Requirement already satisfied: numpy-minmax<1,>=0.3.0 in /usr/local/lib/python3.10/dist-packages (from audiomentations) (0.3.1)\n",
            "Requirement already satisfied: numpy-rms<1,>=0.4.2 in /usr/local/lib/python3.10/dist-packages (from audiomentations) (0.4.2)\n",
            "Requirement already satisfied: librosa!=0.10.0,<0.11.0,>=0.8.0 in /usr/local/lib/python3.10/dist-packages (from audiomentations) (0.10.2.post1)\n",
            "Requirement already satisfied: scipy<1.13,>=1.4 in /usr/local/lib/python3.10/dist-packages (from audiomentations) (1.12.0)\n",
            "Requirement already satisfied: soxr<1.0.0,>=0.3.2 in /usr/local/lib/python3.10/dist-packages (from audiomentations) (0.5.0.post1)\n",
            "Requirement already satisfied: audioread>=2.1.9 in /usr/local/lib/python3.10/dist-packages (from librosa!=0.10.0,<0.11.0,>=0.8.0->audiomentations) (3.0.1)\n",
            "Requirement already satisfied: scikit-learn>=0.20.0 in /usr/local/lib/python3.10/dist-packages (from librosa!=0.10.0,<0.11.0,>=0.8.0->audiomentations) (1.5.2)\n",
            "Requirement already satisfied: joblib>=0.14 in /usr/local/lib/python3.10/dist-packages (from librosa!=0.10.0,<0.11.0,>=0.8.0->audiomentations) (1.4.2)\n",
            "Requirement already satisfied: decorator>=4.3.0 in /usr/local/lib/python3.10/dist-packages (from librosa!=0.10.0,<0.11.0,>=0.8.0->audiomentations) (4.4.2)\n",
            "Requirement already satisfied: numba>=0.51.0 in /usr/local/lib/python3.10/dist-packages (from librosa!=0.10.0,<0.11.0,>=0.8.0->audiomentations) (0.60.0)\n",
            "Requirement already satisfied: soundfile>=0.12.1 in /usr/local/lib/python3.10/dist-packages (from librosa!=0.10.0,<0.11.0,>=0.8.0->audiomentations) (0.12.1)\n",
            "Requirement already satisfied: pooch>=1.1 in /usr/local/lib/python3.10/dist-packages (from librosa!=0.10.0,<0.11.0,>=0.8.0->audiomentations) (1.8.2)\n",
            "Requirement already satisfied: typing-extensions>=4.1.1 in /usr/local/lib/python3.10/dist-packages (from librosa!=0.10.0,<0.11.0,>=0.8.0->audiomentations) (4.12.2)\n",
            "Requirement already satisfied: lazy-loader>=0.1 in /usr/local/lib/python3.10/dist-packages (from librosa!=0.10.0,<0.11.0,>=0.8.0->audiomentations) (0.4)\n",
            "Requirement already satisfied: msgpack>=1.0 in /usr/local/lib/python3.10/dist-packages (from librosa!=0.10.0,<0.11.0,>=0.8.0->audiomentations) (1.0.8)\n",
            "Requirement already satisfied: cffi>=1.0.0 in /usr/local/lib/python3.10/dist-packages (from numpy-minmax<1,>=0.3.0->audiomentations) (1.17.1)\n",
            "Requirement already satisfied: pycparser in /usr/local/lib/python3.10/dist-packages (from cffi>=1.0.0->numpy-minmax<1,>=0.3.0->audiomentations) (2.22)\n",
            "Requirement already satisfied: packaging in /usr/local/lib/python3.10/dist-packages (from lazy-loader>=0.1->librosa!=0.10.0,<0.11.0,>=0.8.0->audiomentations) (24.1)\n",
            "Requirement already satisfied: llvmlite<0.44,>=0.43.0dev0 in /usr/local/lib/python3.10/dist-packages (from numba>=0.51.0->librosa!=0.10.0,<0.11.0,>=0.8.0->audiomentations) (0.43.0)\n",
            "Requirement already satisfied: platformdirs>=2.5.0 in /usr/local/lib/python3.10/dist-packages (from pooch>=1.1->librosa!=0.10.0,<0.11.0,>=0.8.0->audiomentations) (4.3.6)\n",
            "Requirement already satisfied: requests>=2.19.0 in /usr/local/lib/python3.10/dist-packages (from pooch>=1.1->librosa!=0.10.0,<0.11.0,>=0.8.0->audiomentations) (2.32.3)\n",
            "Requirement already satisfied: threadpoolctl>=3.1.0 in /usr/local/lib/python3.10/dist-packages (from scikit-learn>=0.20.0->librosa!=0.10.0,<0.11.0,>=0.8.0->audiomentations) (3.5.0)\n",
            "Requirement already satisfied: charset-normalizer<4,>=2 in /usr/local/lib/python3.10/dist-packages (from requests>=2.19.0->pooch>=1.1->librosa!=0.10.0,<0.11.0,>=0.8.0->audiomentations) (3.4.0)\n",
            "Requirement already satisfied: idna<4,>=2.5 in /usr/local/lib/python3.10/dist-packages (from requests>=2.19.0->pooch>=1.1->librosa!=0.10.0,<0.11.0,>=0.8.0->audiomentations) (3.10)\n",
            "Requirement already satisfied: urllib3<3,>=1.21.1 in /usr/local/lib/python3.10/dist-packages (from requests>=2.19.0->pooch>=1.1->librosa!=0.10.0,<0.11.0,>=0.8.0->audiomentations) (2.2.3)\n",
            "Requirement already satisfied: certifi>=2017.4.17 in /usr/local/lib/python3.10/dist-packages (from requests>=2.19.0->pooch>=1.1->librosa!=0.10.0,<0.11.0,>=0.8.0->audiomentations) (2024.8.30)\n"
          ]
        }
      ],
      "source": [
        "import numpy as np\n",
        "import os\n",
        "import pandas as pd\n",
        "import matplotlib.pyplot as plt\n",
        "import seaborn as sns\n",
        "#!pip install librosa\n",
        "#!pip install tensorflow\n",
        "import librosa\n",
        "import librosa.display\n",
        "import soundfile as sf\n",
        "import random\n",
        "import configparser\n",
        "import math\n",
        "#import tensorflow as tf\n",
        "#import utility_functions as uf\n",
        "import IPython.display as ipd\n",
        "from IPython.display import Audio\n",
        "from sklearn.model_selection import train_test_split\n",
        "!pip install audiomentations\n",
        "from audiomentations import Compose, AddGaussianNoise, TimeStretch, PitchShift, Shift\n",
        "from sklearn.preprocessing import LabelEncoder"
      ]
    },
    {
      "cell_type": "code",
      "execution_count": 4,
      "metadata": {
        "id": "neBKNuonkZFA",
        "colab": {
          "base_uri": "https://localhost:8080/"
        },
        "outputId": "38fe3419-5d47-4f0e-d59c-1d5893a6f482"
      },
      "outputs": [
        {
          "output_type": "stream",
          "name": "stdout",
          "text": [
            "Mounted at /content/drive\n"
          ]
        }
      ],
      "source": [
        "from google.colab import drive\n",
        "drive.mount('/content/drive')\n"
      ]
    },
    {
      "cell_type": "code",
      "execution_count": 5,
      "metadata": {
        "id": "jHcDK3zVkk_n",
        "colab": {
          "base_uri": "https://localhost:8080/",
          "height": 342
        },
        "outputId": "fbd80637-4ae9-4ee9-a999-c0f1d1f56387"
      },
      "outputs": [
        {
          "output_type": "execute_result",
          "data": {
            "text/plain": [
              "   zero_crossing_rate  chroma_stft_0  chroma_stft_1  chroma_stft_2  \\\n",
              "0            0.326416       0.741282       0.739948       0.715356   \n",
              "1            0.324879       0.779703       0.840061       0.818958   \n",
              "2            0.175250       0.695322       0.748651       0.716307   \n",
              "3            0.175637       0.668272       0.713752       0.764915   \n",
              "4            0.277000       0.683592       0.730139       0.717206   \n",
              "\n",
              "   chroma_stft_3  chroma_stft_4  chroma_stft_5  chroma_stft_6  chroma_stft_7  \\\n",
              "0       0.726539       0.693818       0.663530       0.695558       0.735384   \n",
              "1       0.820196       0.822826       0.739997       0.664894       0.715451   \n",
              "2       0.681422       0.678472       0.643956       0.654927       0.696589   \n",
              "3       0.721684       0.680005       0.684769       0.660719       0.676079   \n",
              "4       0.685079       0.682584       0.684100       0.641699       0.695920   \n",
              "\n",
              "   chroma_stft_8  ...       mel_122       mel_123   mel_124   mel_125  \\\n",
              "0       0.751350  ...  1.612789e-06  2.945220e-06  0.000005  0.000004   \n",
              "1       0.748773  ...  8.244939e-05  8.466498e-05  0.000086  0.000081   \n",
              "2       0.705649  ...  6.689573e-07  1.424551e-06  0.000002  0.000002   \n",
              "3       0.706635  ...  1.688137e-06  9.080778e-07  0.000002  0.000003   \n",
              "4       0.722635  ...  4.689035e-06  6.663165e-06  0.000005  0.000006   \n",
              "\n",
              "    mel_126       mel_127        pitch    energy  duration  Emotion  \n",
              "0  0.000002  1.895963e-07  1248.892212  0.321961  2.500000  neutral  \n",
              "1  0.000079  8.058231e-05  1606.978253  0.381012  2.500000  neutral  \n",
              "2  0.000001  9.805644e-08  1218.593018  0.275563  3.124989  neutral  \n",
              "3  0.000002  1.085064e-07  1282.276978  0.239171  2.500000  neutral  \n",
              "4  0.000003  1.961947e-07  1268.120117  0.347606  2.500000  neutral  \n",
              "\n",
              "[5 rows x 186 columns]"
            ],
            "text/html": [
              "\n",
              "  <div id=\"df-2a1995da-bef6-4dcb-9af1-06525baf298c\" class=\"colab-df-container\">\n",
              "    <div>\n",
              "<style scoped>\n",
              "    .dataframe tbody tr th:only-of-type {\n",
              "        vertical-align: middle;\n",
              "    }\n",
              "\n",
              "    .dataframe tbody tr th {\n",
              "        vertical-align: top;\n",
              "    }\n",
              "\n",
              "    .dataframe thead th {\n",
              "        text-align: right;\n",
              "    }\n",
              "</style>\n",
              "<table border=\"1\" class=\"dataframe\">\n",
              "  <thead>\n",
              "    <tr style=\"text-align: right;\">\n",
              "      <th></th>\n",
              "      <th>zero_crossing_rate</th>\n",
              "      <th>chroma_stft_0</th>\n",
              "      <th>chroma_stft_1</th>\n",
              "      <th>chroma_stft_2</th>\n",
              "      <th>chroma_stft_3</th>\n",
              "      <th>chroma_stft_4</th>\n",
              "      <th>chroma_stft_5</th>\n",
              "      <th>chroma_stft_6</th>\n",
              "      <th>chroma_stft_7</th>\n",
              "      <th>chroma_stft_8</th>\n",
              "      <th>...</th>\n",
              "      <th>mel_122</th>\n",
              "      <th>mel_123</th>\n",
              "      <th>mel_124</th>\n",
              "      <th>mel_125</th>\n",
              "      <th>mel_126</th>\n",
              "      <th>mel_127</th>\n",
              "      <th>pitch</th>\n",
              "      <th>energy</th>\n",
              "      <th>duration</th>\n",
              "      <th>Emotion</th>\n",
              "    </tr>\n",
              "  </thead>\n",
              "  <tbody>\n",
              "    <tr>\n",
              "      <th>0</th>\n",
              "      <td>0.326416</td>\n",
              "      <td>0.741282</td>\n",
              "      <td>0.739948</td>\n",
              "      <td>0.715356</td>\n",
              "      <td>0.726539</td>\n",
              "      <td>0.693818</td>\n",
              "      <td>0.663530</td>\n",
              "      <td>0.695558</td>\n",
              "      <td>0.735384</td>\n",
              "      <td>0.751350</td>\n",
              "      <td>...</td>\n",
              "      <td>1.612789e-06</td>\n",
              "      <td>2.945220e-06</td>\n",
              "      <td>0.000005</td>\n",
              "      <td>0.000004</td>\n",
              "      <td>0.000002</td>\n",
              "      <td>1.895963e-07</td>\n",
              "      <td>1248.892212</td>\n",
              "      <td>0.321961</td>\n",
              "      <td>2.500000</td>\n",
              "      <td>neutral</td>\n",
              "    </tr>\n",
              "    <tr>\n",
              "      <th>1</th>\n",
              "      <td>0.324879</td>\n",
              "      <td>0.779703</td>\n",
              "      <td>0.840061</td>\n",
              "      <td>0.818958</td>\n",
              "      <td>0.820196</td>\n",
              "      <td>0.822826</td>\n",
              "      <td>0.739997</td>\n",
              "      <td>0.664894</td>\n",
              "      <td>0.715451</td>\n",
              "      <td>0.748773</td>\n",
              "      <td>...</td>\n",
              "      <td>8.244939e-05</td>\n",
              "      <td>8.466498e-05</td>\n",
              "      <td>0.000086</td>\n",
              "      <td>0.000081</td>\n",
              "      <td>0.000079</td>\n",
              "      <td>8.058231e-05</td>\n",
              "      <td>1606.978253</td>\n",
              "      <td>0.381012</td>\n",
              "      <td>2.500000</td>\n",
              "      <td>neutral</td>\n",
              "    </tr>\n",
              "    <tr>\n",
              "      <th>2</th>\n",
              "      <td>0.175250</td>\n",
              "      <td>0.695322</td>\n",
              "      <td>0.748651</td>\n",
              "      <td>0.716307</td>\n",
              "      <td>0.681422</td>\n",
              "      <td>0.678472</td>\n",
              "      <td>0.643956</td>\n",
              "      <td>0.654927</td>\n",
              "      <td>0.696589</td>\n",
              "      <td>0.705649</td>\n",
              "      <td>...</td>\n",
              "      <td>6.689573e-07</td>\n",
              "      <td>1.424551e-06</td>\n",
              "      <td>0.000002</td>\n",
              "      <td>0.000002</td>\n",
              "      <td>0.000001</td>\n",
              "      <td>9.805644e-08</td>\n",
              "      <td>1218.593018</td>\n",
              "      <td>0.275563</td>\n",
              "      <td>3.124989</td>\n",
              "      <td>neutral</td>\n",
              "    </tr>\n",
              "    <tr>\n",
              "      <th>3</th>\n",
              "      <td>0.175637</td>\n",
              "      <td>0.668272</td>\n",
              "      <td>0.713752</td>\n",
              "      <td>0.764915</td>\n",
              "      <td>0.721684</td>\n",
              "      <td>0.680005</td>\n",
              "      <td>0.684769</td>\n",
              "      <td>0.660719</td>\n",
              "      <td>0.676079</td>\n",
              "      <td>0.706635</td>\n",
              "      <td>...</td>\n",
              "      <td>1.688137e-06</td>\n",
              "      <td>9.080778e-07</td>\n",
              "      <td>0.000002</td>\n",
              "      <td>0.000003</td>\n",
              "      <td>0.000002</td>\n",
              "      <td>1.085064e-07</td>\n",
              "      <td>1282.276978</td>\n",
              "      <td>0.239171</td>\n",
              "      <td>2.500000</td>\n",
              "      <td>neutral</td>\n",
              "    </tr>\n",
              "    <tr>\n",
              "      <th>4</th>\n",
              "      <td>0.277000</td>\n",
              "      <td>0.683592</td>\n",
              "      <td>0.730139</td>\n",
              "      <td>0.717206</td>\n",
              "      <td>0.685079</td>\n",
              "      <td>0.682584</td>\n",
              "      <td>0.684100</td>\n",
              "      <td>0.641699</td>\n",
              "      <td>0.695920</td>\n",
              "      <td>0.722635</td>\n",
              "      <td>...</td>\n",
              "      <td>4.689035e-06</td>\n",
              "      <td>6.663165e-06</td>\n",
              "      <td>0.000005</td>\n",
              "      <td>0.000006</td>\n",
              "      <td>0.000003</td>\n",
              "      <td>1.961947e-07</td>\n",
              "      <td>1268.120117</td>\n",
              "      <td>0.347606</td>\n",
              "      <td>2.500000</td>\n",
              "      <td>neutral</td>\n",
              "    </tr>\n",
              "  </tbody>\n",
              "</table>\n",
              "<p>5 rows × 186 columns</p>\n",
              "</div>\n",
              "    <div class=\"colab-df-buttons\">\n",
              "\n",
              "  <div class=\"colab-df-container\">\n",
              "    <button class=\"colab-df-convert\" onclick=\"convertToInteractive('df-2a1995da-bef6-4dcb-9af1-06525baf298c')\"\n",
              "            title=\"Convert this dataframe to an interactive table.\"\n",
              "            style=\"display:none;\">\n",
              "\n",
              "  <svg xmlns=\"http://www.w3.org/2000/svg\" height=\"24px\" viewBox=\"0 -960 960 960\">\n",
              "    <path d=\"M120-120v-720h720v720H120Zm60-500h600v-160H180v160Zm220 220h160v-160H400v160Zm0 220h160v-160H400v160ZM180-400h160v-160H180v160Zm440 0h160v-160H620v160ZM180-180h160v-160H180v160Zm440 0h160v-160H620v160Z\"/>\n",
              "  </svg>\n",
              "    </button>\n",
              "\n",
              "  <style>\n",
              "    .colab-df-container {\n",
              "      display:flex;\n",
              "      gap: 12px;\n",
              "    }\n",
              "\n",
              "    .colab-df-convert {\n",
              "      background-color: #E8F0FE;\n",
              "      border: none;\n",
              "      border-radius: 50%;\n",
              "      cursor: pointer;\n",
              "      display: none;\n",
              "      fill: #1967D2;\n",
              "      height: 32px;\n",
              "      padding: 0 0 0 0;\n",
              "      width: 32px;\n",
              "    }\n",
              "\n",
              "    .colab-df-convert:hover {\n",
              "      background-color: #E2EBFA;\n",
              "      box-shadow: 0px 1px 2px rgba(60, 64, 67, 0.3), 0px 1px 3px 1px rgba(60, 64, 67, 0.15);\n",
              "      fill: #174EA6;\n",
              "    }\n",
              "\n",
              "    .colab-df-buttons div {\n",
              "      margin-bottom: 4px;\n",
              "    }\n",
              "\n",
              "    [theme=dark] .colab-df-convert {\n",
              "      background-color: #3B4455;\n",
              "      fill: #D2E3FC;\n",
              "    }\n",
              "\n",
              "    [theme=dark] .colab-df-convert:hover {\n",
              "      background-color: #434B5C;\n",
              "      box-shadow: 0px 1px 3px 1px rgba(0, 0, 0, 0.15);\n",
              "      filter: drop-shadow(0px 1px 2px rgba(0, 0, 0, 0.3));\n",
              "      fill: #FFFFFF;\n",
              "    }\n",
              "  </style>\n",
              "\n",
              "    <script>\n",
              "      const buttonEl =\n",
              "        document.querySelector('#df-2a1995da-bef6-4dcb-9af1-06525baf298c button.colab-df-convert');\n",
              "      buttonEl.style.display =\n",
              "        google.colab.kernel.accessAllowed ? 'block' : 'none';\n",
              "\n",
              "      async function convertToInteractive(key) {\n",
              "        const element = document.querySelector('#df-2a1995da-bef6-4dcb-9af1-06525baf298c');\n",
              "        const dataTable =\n",
              "          await google.colab.kernel.invokeFunction('convertToInteractive',\n",
              "                                                    [key], {});\n",
              "        if (!dataTable) return;\n",
              "\n",
              "        const docLinkHtml = 'Like what you see? Visit the ' +\n",
              "          '<a target=\"_blank\" href=https://colab.research.google.com/notebooks/data_table.ipynb>data table notebook</a>'\n",
              "          + ' to learn more about interactive tables.';\n",
              "        element.innerHTML = '';\n",
              "        dataTable['output_type'] = 'display_data';\n",
              "        await google.colab.output.renderOutput(dataTable, element);\n",
              "        const docLink = document.createElement('div');\n",
              "        docLink.innerHTML = docLinkHtml;\n",
              "        element.appendChild(docLink);\n",
              "      }\n",
              "    </script>\n",
              "  </div>\n",
              "\n",
              "\n",
              "<div id=\"df-77658f91-a8fe-4045-8528-251ff08085db\">\n",
              "  <button class=\"colab-df-quickchart\" onclick=\"quickchart('df-77658f91-a8fe-4045-8528-251ff08085db')\"\n",
              "            title=\"Suggest charts\"\n",
              "            style=\"display:none;\">\n",
              "\n",
              "<svg xmlns=\"http://www.w3.org/2000/svg\" height=\"24px\"viewBox=\"0 0 24 24\"\n",
              "     width=\"24px\">\n",
              "    <g>\n",
              "        <path d=\"M19 3H5c-1.1 0-2 .9-2 2v14c0 1.1.9 2 2 2h14c1.1 0 2-.9 2-2V5c0-1.1-.9-2-2-2zM9 17H7v-7h2v7zm4 0h-2V7h2v10zm4 0h-2v-4h2v4z\"/>\n",
              "    </g>\n",
              "</svg>\n",
              "  </button>\n",
              "\n",
              "<style>\n",
              "  .colab-df-quickchart {\n",
              "      --bg-color: #E8F0FE;\n",
              "      --fill-color: #1967D2;\n",
              "      --hover-bg-color: #E2EBFA;\n",
              "      --hover-fill-color: #174EA6;\n",
              "      --disabled-fill-color: #AAA;\n",
              "      --disabled-bg-color: #DDD;\n",
              "  }\n",
              "\n",
              "  [theme=dark] .colab-df-quickchart {\n",
              "      --bg-color: #3B4455;\n",
              "      --fill-color: #D2E3FC;\n",
              "      --hover-bg-color: #434B5C;\n",
              "      --hover-fill-color: #FFFFFF;\n",
              "      --disabled-bg-color: #3B4455;\n",
              "      --disabled-fill-color: #666;\n",
              "  }\n",
              "\n",
              "  .colab-df-quickchart {\n",
              "    background-color: var(--bg-color);\n",
              "    border: none;\n",
              "    border-radius: 50%;\n",
              "    cursor: pointer;\n",
              "    display: none;\n",
              "    fill: var(--fill-color);\n",
              "    height: 32px;\n",
              "    padding: 0;\n",
              "    width: 32px;\n",
              "  }\n",
              "\n",
              "  .colab-df-quickchart:hover {\n",
              "    background-color: var(--hover-bg-color);\n",
              "    box-shadow: 0 1px 2px rgba(60, 64, 67, 0.3), 0 1px 3px 1px rgba(60, 64, 67, 0.15);\n",
              "    fill: var(--button-hover-fill-color);\n",
              "  }\n",
              "\n",
              "  .colab-df-quickchart-complete:disabled,\n",
              "  .colab-df-quickchart-complete:disabled:hover {\n",
              "    background-color: var(--disabled-bg-color);\n",
              "    fill: var(--disabled-fill-color);\n",
              "    box-shadow: none;\n",
              "  }\n",
              "\n",
              "  .colab-df-spinner {\n",
              "    border: 2px solid var(--fill-color);\n",
              "    border-color: transparent;\n",
              "    border-bottom-color: var(--fill-color);\n",
              "    animation:\n",
              "      spin 1s steps(1) infinite;\n",
              "  }\n",
              "\n",
              "  @keyframes spin {\n",
              "    0% {\n",
              "      border-color: transparent;\n",
              "      border-bottom-color: var(--fill-color);\n",
              "      border-left-color: var(--fill-color);\n",
              "    }\n",
              "    20% {\n",
              "      border-color: transparent;\n",
              "      border-left-color: var(--fill-color);\n",
              "      border-top-color: var(--fill-color);\n",
              "    }\n",
              "    30% {\n",
              "      border-color: transparent;\n",
              "      border-left-color: var(--fill-color);\n",
              "      border-top-color: var(--fill-color);\n",
              "      border-right-color: var(--fill-color);\n",
              "    }\n",
              "    40% {\n",
              "      border-color: transparent;\n",
              "      border-right-color: var(--fill-color);\n",
              "      border-top-color: var(--fill-color);\n",
              "    }\n",
              "    60% {\n",
              "      border-color: transparent;\n",
              "      border-right-color: var(--fill-color);\n",
              "    }\n",
              "    80% {\n",
              "      border-color: transparent;\n",
              "      border-right-color: var(--fill-color);\n",
              "      border-bottom-color: var(--fill-color);\n",
              "    }\n",
              "    90% {\n",
              "      border-color: transparent;\n",
              "      border-bottom-color: var(--fill-color);\n",
              "    }\n",
              "  }\n",
              "</style>\n",
              "\n",
              "  <script>\n",
              "    async function quickchart(key) {\n",
              "      const quickchartButtonEl =\n",
              "        document.querySelector('#' + key + ' button');\n",
              "      quickchartButtonEl.disabled = true;  // To prevent multiple clicks.\n",
              "      quickchartButtonEl.classList.add('colab-df-spinner');\n",
              "      try {\n",
              "        const charts = await google.colab.kernel.invokeFunction(\n",
              "            'suggestCharts', [key], {});\n",
              "      } catch (error) {\n",
              "        console.error('Error during call to suggestCharts:', error);\n",
              "      }\n",
              "      quickchartButtonEl.classList.remove('colab-df-spinner');\n",
              "      quickchartButtonEl.classList.add('colab-df-quickchart-complete');\n",
              "    }\n",
              "    (() => {\n",
              "      let quickchartButtonEl =\n",
              "        document.querySelector('#df-77658f91-a8fe-4045-8528-251ff08085db button');\n",
              "      quickchartButtonEl.style.display =\n",
              "        google.colab.kernel.accessAllowed ? 'block' : 'none';\n",
              "    })();\n",
              "  </script>\n",
              "</div>\n",
              "\n",
              "    </div>\n",
              "  </div>\n"
            ],
            "application/vnd.google.colaboratory.intrinsic+json": {
              "type": "dataframe",
              "variable_name": "df"
            }
          },
          "metadata": {},
          "execution_count": 5
        }
      ],
      "source": [
        "file_path = '/content/drive/MyDrive/extracted_features_with_labels.csv'\n",
        "df = pd.read_csv(file_path)\n",
        "df.head()\n"
      ]
    },
    {
      "cell_type": "code",
      "execution_count": 6,
      "metadata": {
        "id": "03i8is0-kxTe",
        "colab": {
          "base_uri": "https://localhost:8080/"
        },
        "outputId": "972f8a74-fdcf-4646-9567-9d8102401b5a"
      },
      "outputs": [
        {
          "output_type": "execute_result",
          "data": {
            "text/plain": [
              "(6144, 186)"
            ]
          },
          "metadata": {},
          "execution_count": 6
        }
      ],
      "source": [
        "df.shape"
      ]
    },
    {
      "cell_type": "code",
      "execution_count": 7,
      "metadata": {
        "id": "LRi79cNek0r_",
        "colab": {
          "base_uri": "https://localhost:8080/",
          "height": 366
        },
        "outputId": "ef872aee-c9bc-4e9c-a62c-12b62b41a1e3"
      },
      "outputs": [
        {
          "output_type": "execute_result",
          "data": {
            "text/plain": [
              "Emotion\n",
              "neutral      768\n",
              "calm         768\n",
              "happy        768\n",
              "sad          768\n",
              "angry        768\n",
              "fearful      768\n",
              "disgust      768\n",
              "surprised    768\n",
              "Name: count, dtype: int64"
            ],
            "text/html": [
              "<div>\n",
              "<style scoped>\n",
              "    .dataframe tbody tr th:only-of-type {\n",
              "        vertical-align: middle;\n",
              "    }\n",
              "\n",
              "    .dataframe tbody tr th {\n",
              "        vertical-align: top;\n",
              "    }\n",
              "\n",
              "    .dataframe thead th {\n",
              "        text-align: right;\n",
              "    }\n",
              "</style>\n",
              "<table border=\"1\" class=\"dataframe\">\n",
              "  <thead>\n",
              "    <tr style=\"text-align: right;\">\n",
              "      <th></th>\n",
              "      <th>count</th>\n",
              "    </tr>\n",
              "    <tr>\n",
              "      <th>Emotion</th>\n",
              "      <th></th>\n",
              "    </tr>\n",
              "  </thead>\n",
              "  <tbody>\n",
              "    <tr>\n",
              "      <th>neutral</th>\n",
              "      <td>768</td>\n",
              "    </tr>\n",
              "    <tr>\n",
              "      <th>calm</th>\n",
              "      <td>768</td>\n",
              "    </tr>\n",
              "    <tr>\n",
              "      <th>happy</th>\n",
              "      <td>768</td>\n",
              "    </tr>\n",
              "    <tr>\n",
              "      <th>sad</th>\n",
              "      <td>768</td>\n",
              "    </tr>\n",
              "    <tr>\n",
              "      <th>angry</th>\n",
              "      <td>768</td>\n",
              "    </tr>\n",
              "    <tr>\n",
              "      <th>fearful</th>\n",
              "      <td>768</td>\n",
              "    </tr>\n",
              "    <tr>\n",
              "      <th>disgust</th>\n",
              "      <td>768</td>\n",
              "    </tr>\n",
              "    <tr>\n",
              "      <th>surprised</th>\n",
              "      <td>768</td>\n",
              "    </tr>\n",
              "  </tbody>\n",
              "</table>\n",
              "</div><br><label><b>dtype:</b> int64</label>"
            ]
          },
          "metadata": {},
          "execution_count": 7
        }
      ],
      "source": [
        "df['Emotion'].value_counts()"
      ]
    },
    {
      "cell_type": "code",
      "execution_count": 8,
      "metadata": {
        "id": "H5NrzQ_-mL7W"
      },
      "outputs": [],
      "source": [
        "\n",
        "# Convert emotion labels to numerical values\n",
        "label_encoder = LabelEncoder()\n",
        "df['emotion_encoded'] = label_encoder.fit_transform(df['Emotion'])\n",
        "\n",
        "Y = df['emotion_encoded'].values\n",
        "from sklearn.preprocessing import StandardScaler, OneHotEncoder\n",
        "#encoder = OneHotEncoder()\n",
        "#Y = encoder.fit_transform(np.array(Y).reshape(-1,1)).toarray()\n"
      ]
    },
    {
      "cell_type": "code",
      "execution_count": 9,
      "metadata": {
        "id": "YLedUu5Ce9FE",
        "colab": {
          "base_uri": "https://localhost:8080/"
        },
        "outputId": "159f2641-b906-44ba-b184-8476641491eb"
      },
      "outputs": [
        {
          "output_type": "execute_result",
          "data": {
            "text/plain": [
              "(6144,)"
            ]
          },
          "metadata": {},
          "execution_count": 9
        }
      ],
      "source": [
        "Y.shape"
      ]
    },
    {
      "cell_type": "code",
      "execution_count": 10,
      "metadata": {
        "id": "OP-l4dzoqrUo",
        "colab": {
          "base_uri": "https://localhost:8080/"
        },
        "outputId": "219f7a3d-b229-422a-94c3-441b84e52702"
      },
      "outputs": [
        {
          "output_type": "execute_result",
          "data": {
            "text/plain": [
              "(6144, 185)"
            ]
          },
          "metadata": {},
          "execution_count": 10
        }
      ],
      "source": [
        "X = df.drop(['emotion_encoded','Emotion'],axis=1)\n",
        "X.shape"
      ]
    },
    {
      "cell_type": "code",
      "execution_count": 11,
      "metadata": {
        "id": "sMfVrDHDqlU2",
        "colab": {
          "base_uri": "https://localhost:8080/"
        },
        "outputId": "51b17c07-e434-47a2-ebb9-1c726d73b422"
      },
      "outputs": [
        {
          "output_type": "stream",
          "name": "stdout",
          "text": [
            "Training set features shape: (4300, 185)\n",
            "Testing set features shape: (1844, 185)\n",
            "Training set labels shape: (4300,)\n",
            "Testing set labels shape: (1844,)\n"
          ]
        }
      ],
      "source": [
        "# Split the dataset into training and test sets\n",
        "X_train, X_test, y_train, y_test = train_test_split(X, Y, test_size=0.3, random_state=42)\n",
        "# Print the shapes of the resulting sets\n",
        "print(\"Training set features shape:\", X_train.shape)\n",
        "print(\"Testing set features shape:\", X_test.shape)\n",
        "print(\"Training set labels shape:\", y_train.shape)\n",
        "print(\"Testing set labels shape:\", y_test.shape)"
      ]
    },
    {
      "cell_type": "code",
      "execution_count": 12,
      "metadata": {
        "id": "eCWUw5c_dAgQ"
      },
      "outputs": [],
      "source": [
        "\n",
        "# Scale features\n",
        "scaler = StandardScaler()\n",
        "X_train_scaled = scaler.fit_transform(X_train)\n",
        "X_test_scaled = scaler.transform(X_test)\n",
        "\n"
      ]
    },
    {
      "cell_type": "code",
      "execution_count": 13,
      "metadata": {
        "id": "k_hQdv-_1JQD"
      },
      "outputs": [],
      "source": [
        "import pandas as pd\n",
        "import numpy as np\n",
        "from sklearn.preprocessing import LabelEncoder\n",
        "from sklearn.model_selection import train_test_split\n",
        "from sklearn.svm import SVC\n",
        "from sklearn.metrics import classification_report\n",
        "\n",
        "# Assuming your data is in a pandas DataFrame `df`\n",
        "# Separate features and labels\n",
        "X = df.iloc[:, :-1]  # Features (all columns except 'emotion')\n",
        "y = df['Emotion']    # Emotion labels (last column)\n"
      ]
    },
    {
      "cell_type": "code",
      "execution_count": 14,
      "metadata": {
        "id": "8qqIyX3e4Uz8"
      },
      "outputs": [],
      "source": [
        "X.drop('Emotion', axis=1, inplace=True)"
      ]
    },
    {
      "cell_type": "code",
      "execution_count": 15,
      "metadata": {
        "id": "eX2y5zwU4MDJ"
      },
      "outputs": [],
      "source": [
        "\n",
        "# Encode the emotion labels\n",
        "label_encoder = LabelEncoder()\n",
        "y_encoded = label_encoder.fit_transform(y)\n",
        "\n",
        "# List of unique emotions\n",
        "emotions = label_encoder.classes_"
      ]
    },
    {
      "cell_type": "code",
      "execution_count": 16,
      "metadata": {
        "id": "acHp5-rQ4djI",
        "colab": {
          "base_uri": "https://localhost:8080/"
        },
        "outputId": "39cf6cdd-83dc-4100-f39d-b48abf5d7f10"
      },
      "outputs": [
        {
          "output_type": "execute_result",
          "data": {
            "text/plain": [
              "array([5, 5, 5, ..., 5, 5, 5])"
            ]
          },
          "metadata": {},
          "execution_count": 16
        }
      ],
      "source": [
        "y_encoded"
      ]
    },
    {
      "cell_type": "code",
      "execution_count": 17,
      "metadata": {
        "colab": {
          "base_uri": "https://localhost:8080/"
        },
        "id": "PbyQ4-wu4FSo",
        "outputId": "77476e59-66a4-4379-f28e-2e197d3c23c0"
      },
      "outputs": [
        {
          "output_type": "stream",
          "name": "stdout",
          "text": [
            "Results for emotion: angry\n",
            "              precision    recall  f1-score   support\n",
            "\n",
            "           0       0.94      0.98      0.96      1613\n",
            "           1       0.81      0.56      0.66       231\n",
            "\n",
            "    accuracy                           0.93      1844\n",
            "   macro avg       0.88      0.77      0.81      1844\n",
            "weighted avg       0.92      0.93      0.92      1844\n",
            "\n",
            "Results for emotion: calm\n",
            "              precision    recall  f1-score   support\n",
            "\n",
            "           0       0.94      0.97      0.95      1621\n",
            "           1       0.70      0.53      0.60       223\n",
            "\n",
            "    accuracy                           0.92      1844\n",
            "   macro avg       0.82      0.75      0.78      1844\n",
            "weighted avg       0.91      0.92      0.91      1844\n",
            "\n",
            "Results for emotion: disgust\n",
            "              precision    recall  f1-score   support\n",
            "\n",
            "           0       0.89      0.99      0.94      1612\n",
            "           1       0.76      0.15      0.25       232\n",
            "\n",
            "    accuracy                           0.89      1844\n",
            "   macro avg       0.82      0.57      0.59      1844\n",
            "weighted avg       0.87      0.89      0.85      1844\n",
            "\n",
            "Results for emotion: fearful\n",
            "              precision    recall  f1-score   support\n",
            "\n",
            "           0       0.91      0.98      0.94      1616\n",
            "           1       0.70      0.29      0.40       228\n",
            "\n",
            "    accuracy                           0.90      1844\n",
            "   macro avg       0.80      0.63      0.67      1844\n",
            "weighted avg       0.88      0.90      0.88      1844\n",
            "\n",
            "Results for emotion: happy\n",
            "              precision    recall  f1-score   support\n",
            "\n",
            "           0       0.90      0.98      0.94      1614\n",
            "           1       0.61      0.20      0.30       230\n",
            "\n",
            "    accuracy                           0.88      1844\n",
            "   macro avg       0.75      0.59      0.62      1844\n",
            "weighted avg       0.86      0.88      0.86      1844\n",
            "\n",
            "Results for emotion: neutral\n",
            "              precision    recall  f1-score   support\n",
            "\n",
            "           0       0.91      0.99      0.95      1618\n",
            "           1       0.79      0.29      0.43       226\n",
            "\n",
            "    accuracy                           0.90      1844\n",
            "   macro avg       0.85      0.64      0.69      1844\n",
            "weighted avg       0.89      0.90      0.88      1844\n",
            "\n",
            "Results for emotion: sad\n",
            "              precision    recall  f1-score   support\n",
            "\n",
            "           0       0.89      0.99      0.94      1601\n",
            "           1       0.73      0.22      0.34       243\n",
            "\n",
            "    accuracy                           0.89      1844\n",
            "   macro avg       0.81      0.60      0.64      1844\n",
            "weighted avg       0.87      0.89      0.86      1844\n",
            "\n",
            "Results for emotion: surprised\n",
            "              precision    recall  f1-score   support\n",
            "\n",
            "           0       0.91      0.98      0.94      1613\n",
            "           1       0.69      0.33      0.45       231\n",
            "\n",
            "    accuracy                           0.90      1844\n",
            "   macro avg       0.80      0.66      0.70      1844\n",
            "weighted avg       0.88      0.90      0.88      1844\n",
            "\n"
          ]
        }
      ],
      "source": [
        "\n",
        "## One-vs-All Classification\n",
        "for emotion in emotions:\n",
        "  # Create binary labels for one-vs-all classification (1 for the current emotion, 0 for others)\n",
        "  y_bin = np.where(y_encoded == label_encoder.transform([emotion])[0], 1, 0)\n",
        "\n",
        "    #Split data\n",
        "  X_train, X_test, y_train, y_test = train_test_split(X, y_bin, test_size=0.3, random_state=42)\n",
        "\n",
        "    # Train binary classifier\n",
        "  clf = SVC(kernel='linear', probability=True)\n",
        "  clf.fit(X_train, y_train)\n",
        "\n",
        "    # Predict and evaluate\n",
        "  y_pred = clf.predict(X_test)\n",
        "  print(f\"Results for emotion: {emotion}\")\n",
        "  print(classification_report(y_test, y_pred))"
      ]
    },
    {
      "cell_type": "code",
      "execution_count": 19,
      "metadata": {
        "id": "J5buKiWU6F_8",
        "colab": {
          "base_uri": "https://localhost:8080/",
          "height": 1000
        },
        "outputId": "48314969-1622-4cb3-f95b-0762da032230"
      },
      "outputs": [
        {
          "output_type": "stream",
          "name": "stdout",
          "text": [
            "Collecting shap\n",
            "  Downloading shap-0.46.0-cp310-cp310-manylinux_2_12_x86_64.manylinux2010_x86_64.manylinux_2_17_x86_64.manylinux2014_x86_64.whl.metadata (24 kB)\n",
            "Requirement already satisfied: numpy in /usr/local/lib/python3.10/dist-packages (from shap) (1.26.4)\n",
            "Requirement already satisfied: scipy in /usr/local/lib/python3.10/dist-packages (from shap) (1.12.0)\n",
            "Requirement already satisfied: scikit-learn in /usr/local/lib/python3.10/dist-packages (from shap) (1.5.2)\n",
            "Requirement already satisfied: pandas in /usr/local/lib/python3.10/dist-packages (from shap) (2.2.2)\n",
            "Requirement already satisfied: tqdm>=4.27.0 in /usr/local/lib/python3.10/dist-packages (from shap) (4.66.5)\n",
            "Requirement already satisfied: packaging>20.9 in /usr/local/lib/python3.10/dist-packages (from shap) (24.1)\n",
            "Collecting slicer==0.0.8 (from shap)\n",
            "  Downloading slicer-0.0.8-py3-none-any.whl.metadata (4.0 kB)\n",
            "Requirement already satisfied: numba in /usr/local/lib/python3.10/dist-packages (from shap) (0.60.0)\n",
            "Requirement already satisfied: cloudpickle in /usr/local/lib/python3.10/dist-packages (from shap) (2.2.1)\n",
            "Requirement already satisfied: llvmlite<0.44,>=0.43.0dev0 in /usr/local/lib/python3.10/dist-packages (from numba->shap) (0.43.0)\n",
            "Requirement already satisfied: python-dateutil>=2.8.2 in /usr/local/lib/python3.10/dist-packages (from pandas->shap) (2.8.2)\n",
            "Requirement already satisfied: pytz>=2020.1 in /usr/local/lib/python3.10/dist-packages (from pandas->shap) (2024.2)\n",
            "Requirement already satisfied: tzdata>=2022.7 in /usr/local/lib/python3.10/dist-packages (from pandas->shap) (2024.2)\n",
            "Requirement already satisfied: joblib>=1.2.0 in /usr/local/lib/python3.10/dist-packages (from scikit-learn->shap) (1.4.2)\n",
            "Requirement already satisfied: threadpoolctl>=3.1.0 in /usr/local/lib/python3.10/dist-packages (from scikit-learn->shap) (3.5.0)\n",
            "Requirement already satisfied: six>=1.5 in /usr/local/lib/python3.10/dist-packages (from python-dateutil>=2.8.2->pandas->shap) (1.16.0)\n",
            "Downloading shap-0.46.0-cp310-cp310-manylinux_2_12_x86_64.manylinux2010_x86_64.manylinux_2_17_x86_64.manylinux2014_x86_64.whl (540 kB)\n",
            "\u001b[2K   \u001b[90m━━━━━━━━━━━━━━━━━━━━━━━━━━━━━━━━━━━━━━━━\u001b[0m \u001b[32m540.1/540.1 kB\u001b[0m \u001b[31m10.2 MB/s\u001b[0m eta \u001b[36m0:00:00\u001b[0m\n",
            "\u001b[?25hDownloading slicer-0.0.8-py3-none-any.whl (15 kB)\n",
            "Installing collected packages: slicer, shap\n",
            "Successfully installed shap-0.46.0 slicer-0.0.8\n"
          ]
        },
        {
          "output_type": "display_data",
          "data": {
            "text/plain": [
              "<Figure size 800x950 with 2 Axes>"
            ],
            "image/png": "[encoded data removed]"
          },
          "metadata": {}
        }
      ],
      "source": [
        "!pip install shap\n",
        "import shap\n",
        "    #Apply SHAP (use only if you have a model and data available)\n",
        "#SHAP requires a fitted model and the data used to train the model\n",
        "explainer = shap.Explainer(clf, X_train)\n",
        "shap_values = explainer(X_test)\n",
        "\n",
        "    # Plot SHAP values for the current emotion\n",
        "shap.summary_plot(shap_values, X_test, feature_names=X.columns)\n"
      ]
    },
    {
      "cell_type": "code",
      "execution_count": 21,
      "metadata": {
        "id": "xPhc6mD-yEbP",
        "colab": {
          "base_uri": "https://localhost:8080/"
        },
        "outputId": "393eff76-5e6b-42c1-8827-cae867eb2688"
      },
      "outputs": [
        {
          "output_type": "stream",
          "name": "stderr",
          "text": [
            "<ipython-input-21-353f9f813d0b>:14: SettingWithCopyWarning: \n",
            "A value is trying to be set on a copy of a slice from a DataFrame.\n",
            "Try using .loc[row_indexer,col_indexer] = value instead\n",
            "\n",
            "See the caveats in the documentation: https://pandas.pydata.org/pandas-docs/stable/user_guide/indexing.html#returning-a-view-versus-a-copy\n",
            "  filtered_data['Emotion'] = filtered_data['Emotion'].map(emotion_map)\n"
          ]
        }
      ],
      "source": [
        "import pandas as pd\n",
        "from sklearn.model_selection import train_test_split\n",
        "from sklearn.preprocessing import StandardScaler\n",
        "from sklearn.svm import SVC\n",
        "from sklearn.metrics import classification_report, confusion_matrix\n",
        "\n",
        "\n",
        "# Filter for 5 emotions: Angry, Neutral, Calm, fearful, Surprised\n",
        "emotions_to_keep = ['angry', 'neutral', 'calm', 'fearful', 'surprised']\n",
        "filtered_data = df[df['Emotion'].isin(emotions_to_keep)]\n",
        "\n",
        "# Map emotions to integers if not already\n",
        "emotion_map = {emotion: idx for idx, emotion in enumerate(emotions_to_keep)}\n",
        "filtered_data['Emotion'] = filtered_data['Emotion'].map(emotion_map)\n",
        "\n",
        "# Split features and labels\n",
        "X = filtered_data.drop(columns=['Emotion','emotion_encoded'])\n",
        "y = filtered_data['Emotion']\n"
      ]
    },
    {
      "cell_type": "code",
      "execution_count": 22,
      "metadata": {
        "id": "ZS4ozBu-ZrRE",
        "colab": {
          "base_uri": "https://localhost:8080/"
        },
        "outputId": "68b0d7b0-2e28-48a3-8623-488a9dac2b7d"
      },
      "outputs": [
        {
          "output_type": "execute_result",
          "data": {
            "text/plain": [
              "(3840, 185)"
            ]
          },
          "metadata": {},
          "execution_count": 22
        }
      ],
      "source": [
        "X.shape"
      ]
    },
    {
      "cell_type": "code",
      "execution_count": 23,
      "metadata": {
        "id": "wiaeHr0sY_62"
      },
      "outputs": [],
      "source": [
        "\n",
        "# Train-test split\n",
        "X_train, X_test, y_train, y_test = train_test_split(X, y, test_size=0.3, random_state=42)\n"
      ]
    },
    {
      "cell_type": "code",
      "execution_count": 24,
      "metadata": {
        "id": "qujG4t8wZQC7",
        "colab": {
          "base_uri": "https://localhost:8080/"
        },
        "outputId": "96ab35aa-305b-496e-a279-08576664d058"
      },
      "outputs": [
        {
          "output_type": "execute_result",
          "data": {
            "text/plain": [
              "array([1, 2, 0, 3, 4])"
            ]
          },
          "metadata": {},
          "execution_count": 24
        }
      ],
      "source": [
        "y.unique()"
      ]
    },
    {
      "cell_type": "code",
      "execution_count": 25,
      "metadata": {
        "id": "lQ2XF6fKJLsn"
      },
      "outputs": [],
      "source": [
        "\n",
        "# Scale features\n",
        "scaler = StandardScaler()\n",
        "X_train_scaled = scaler.fit_transform(X_train)\n",
        "X_test_scaled = scaler.transform(X_test)\n",
        "\n"
      ]
    },
    {
      "cell_type": "code",
      "execution_count": 27,
      "metadata": {
        "id": "TlVJeqEawkvN",
        "colab": {
          "base_uri": "https://localhost:8080/",
          "height": 1000
        },
        "outputId": "8b37480b-cb9f-4805-ee41-d105d8ad5b5c"
      },
      "outputs": [
        {
          "output_type": "stream",
          "name": "stderr",
          "text": [
            "/usr/local/lib/python3.10/dist-packages/sklearn/linear_model/_logistic.py:469: ConvergenceWarning: lbfgs failed to converge (status=1):\n",
            "STOP: TOTAL NO. of ITERATIONS REACHED LIMIT.\n",
            "\n",
            "Increase the number of iterations (max_iter) or scale the data as shown in:\n",
            "    https://scikit-learn.org/stable/modules/preprocessing.html\n",
            "Please also refer to the documentation for alternative solver options:\n",
            "    https://scikit-learn.org/stable/modules/linear_model.html#logistic-regression\n",
            "  n_iter_i = _check_optimize_result(\n",
            "/usr/local/lib/python3.10/dist-packages/sklearn/linear_model/_logistic.py:469: ConvergenceWarning: lbfgs failed to converge (status=1):\n",
            "STOP: TOTAL NO. of ITERATIONS REACHED LIMIT.\n",
            "\n",
            "Increase the number of iterations (max_iter) or scale the data as shown in:\n",
            "    https://scikit-learn.org/stable/modules/preprocessing.html\n",
            "Please also refer to the documentation for alternative solver options:\n",
            "    https://scikit-learn.org/stable/modules/linear_model.html#logistic-regression\n",
            "  n_iter_i = _check_optimize_result(\n",
            "/usr/local/lib/python3.10/dist-packages/sklearn/linear_model/_logistic.py:469: ConvergenceWarning: lbfgs failed to converge (status=1):\n",
            "STOP: TOTAL NO. of ITERATIONS REACHED LIMIT.\n",
            "\n",
            "Increase the number of iterations (max_iter) or scale the data as shown in:\n",
            "    https://scikit-learn.org/stable/modules/preprocessing.html\n",
            "Please also refer to the documentation for alternative solver options:\n",
            "    https://scikit-learn.org/stable/modules/linear_model.html#logistic-regression\n",
            "  n_iter_i = _check_optimize_result(\n",
            "/usr/local/lib/python3.10/dist-packages/sklearn/linear_model/_logistic.py:469: ConvergenceWarning: lbfgs failed to converge (status=1):\n",
            "STOP: TOTAL NO. of ITERATIONS REACHED LIMIT.\n",
            "\n",
            "Increase the number of iterations (max_iter) or scale the data as shown in:\n",
            "    https://scikit-learn.org/stable/modules/preprocessing.html\n",
            "Please also refer to the documentation for alternative solver options:\n",
            "    https://scikit-learn.org/stable/modules/linear_model.html#logistic-regression\n",
            "  n_iter_i = _check_optimize_result(\n",
            "/usr/local/lib/python3.10/dist-packages/sklearn/linear_model/_logistic.py:469: ConvergenceWarning: lbfgs failed to converge (status=1):\n",
            "STOP: TOTAL NO. of ITERATIONS REACHED LIMIT.\n",
            "\n",
            "Increase the number of iterations (max_iter) or scale the data as shown in:\n",
            "    https://scikit-learn.org/stable/modules/preprocessing.html\n",
            "Please also refer to the documentation for alternative solver options:\n",
            "    https://scikit-learn.org/stable/modules/linear_model.html#logistic-regression\n",
            "  n_iter_i = _check_optimize_result(\n",
            "/usr/local/lib/python3.10/dist-packages/sklearn/linear_model/_logistic.py:469: ConvergenceWarning: lbfgs failed to converge (status=1):\n",
            "STOP: TOTAL NO. of ITERATIONS REACHED LIMIT.\n",
            "\n",
            "Increase the number of iterations (max_iter) or scale the data as shown in:\n",
            "    https://scikit-learn.org/stable/modules/preprocessing.html\n",
            "Please also refer to the documentation for alternative solver options:\n",
            "    https://scikit-learn.org/stable/modules/linear_model.html#logistic-regression\n",
            "  n_iter_i = _check_optimize_result(\n"
          ]
        },
        {
          "output_type": "stream",
          "name": "stdout",
          "text": [
            "Training Accuracy: 1.0000\n",
            "Testing Accuracy: 0.8889\n"
          ]
        },
        {
          "output_type": "display_data",
          "data": {
            "text/plain": [
              "<Figure size 800x600 with 1 Axes>"
            ],
            "image/png": "[encoded data removed]"
          },
          "metadata": {}
        },
        {
          "output_type": "display_data",
          "data": {
            "text/plain": [
              "<Figure size 1000x600 with 1 Axes>"
            ],
            "image/png": "[encoded data removed]"
          },
          "metadata": {}
        },
        {
          "output_type": "display_data",
          "data": {
            "text/plain": [
              "<Figure size 1000x600 with 1 Axes>"
            ],
            "image/png": "[encoded data removed]"
          },
          "metadata": {}
        }
      ],
      "source": [
        "import numpy as np\n",
        "import matplotlib.pyplot as plt\n",
        "import seaborn as sns\n",
        "from sklearn.ensemble import StackingClassifier, RandomForestClassifier\n",
        "from sklearn.linear_model import LogisticRegression\n",
        "from sklearn.svm import SVC\n",
        "from sklearn.metrics import confusion_matrix, accuracy_score, classification_report\n",
        "from sklearn.model_selection import learning_curve\n",
        "\n",
        "# Define base models\n",
        "base_models = [\n",
        "    ('svm', SVC(kernel='linear', probability=True)),\n",
        "    ('rf', RandomForestClassifier()),\n",
        "    ('logreg', LogisticRegression())\n",
        "]\n",
        "\n",
        "# Define meta-model\n",
        "meta_model = LogisticRegression()\n",
        "\n",
        "# Create the stacking ensemble\n",
        "stacking_clf = StackingClassifier(estimators=base_models, final_estimator=meta_model)\n",
        "\n",
        "# Train the stacking ensemble model\n",
        "stacking_clf.fit(X_train_scaled, y_train)\n",
        "\n",
        "# Predict on test data\n",
        "y_test_pred = stacking_clf.predict(X_test_scaled)\n",
        "y_train_pred = stacking_clf.predict(X_train_scaled)\n",
        "\n",
        "# Calculate accuracy for training and testing sets\n",
        "train_accuracy = accuracy_score(y_train, y_train_pred)\n",
        "test_accuracy = accuracy_score(y_test, y_test_pred)\n",
        "\n",
        "print(f\"Training Accuracy: {train_accuracy:.4f}\")\n",
        "print(f\"Testing Accuracy: {test_accuracy:.4f}\")\n",
        "\n",
        "# Confusion Matrix\n",
        "conf_matrix = confusion_matrix(y_test, y_test_pred)\n",
        "\n",
        "# Plotting the confusion matrix using seaborn\n",
        "plt.figure(figsize=(8, 6))\n",
        "sns.heatmap(conf_matrix, annot=True, fmt='d', cmap='Blues', cbar=False)\n",
        "plt.title('Confusion Matrix')\n",
        "plt.xlabel('Predicted Labels')\n",
        "plt.ylabel('True Labels')\n",
        "plt.show()\n",
        "\n",
        "# Classification Report\n",
        "report = classification_report(y_test, y_test_pred, output_dict=True)\n",
        "\n",
        "# Bar plot for precision, recall, and F1-score\n",
        "metrics_df = pd.DataFrame(report).transpose()\n",
        "metrics_df.drop(['support'], axis=1, inplace=True)\n",
        "\n",
        "plt.figure(figsize=(10, 6))\n",
        "metrics_df.iloc[:-1].plot(kind='bar', ax=plt.gca())\n",
        "plt.title('Classification Report Metrics')\n",
        "plt.ylabel('Score')\n",
        "plt.xticks(rotation=45)\n",
        "plt.legend(title='Metrics')\n",
        "plt.show()\n",
        "\n",
        "# Plotting Learning Curves\n",
        "train_sizes, train_scores, test_scores = learning_curve(\n",
        "    stacking_clf, X_train_scaled, y_train, cv=5, n_jobs=-1,\n",
        "    train_sizes=np.linspace(0.1, 1.0, 10)\n",
        ")\n",
        "\n",
        "# Calculate the mean and std for train and test scores\n",
        "train_scores_mean = np.mean(train_scores, axis=1)\n",
        "test_scores_mean = np.mean(test_scores, axis=1)\n",
        "train_scores_std = np.std(train_scores, axis=1)\n",
        "test_scores_std = np.std(test_scores, axis=1)\n",
        "\n",
        "# Plotting Learning Curves\n",
        "plt.figure(figsize=(10, 6))\n",
        "plt.plot(train_sizes, train_scores_mean, 'o-', color='r', label='Training score')\n",
        "plt.plot(train_sizes, test_scores_mean, 'o-', color='g', label='Cross-validation score')\n",
        "\n",
        "# Plot the std deviation as shaded area\n",
        "plt.fill_between(train_sizes, train_scores_mean - train_scores_std,\n",
        "                 train_scores_mean + train_scores_std, color='r', alpha=0.1)\n",
        "plt.fill_between(train_sizes, test_scores_mean - test_scores_std,\n",
        "                 test_scores_mean + test_scores_std, color='g', alpha=0.1)\n",
        "\n",
        "plt.title('Learning Curves')\n",
        "plt.xlabel('Training Examples')\n",
        "plt.ylabel('Score')\n",
        "plt.legend(loc='best')\n",
        "plt.grid()\n",
        "plt.show()\n"
      ]
    },
    {
      "cell_type": "code",
      "source": [
        "# Calculate accuracy for training and testing sets\n",
        "train_accuracy = accuracy_score(y_train, y_train_pred)\n",
        "test_accuracy = accuracy_score(y_test, y_test_pred)\n",
        "\n",
        "print(f\"Training Accuracy: {train_accuracy:.4f}\")\n",
        "print(f\"Testing Accuracy: {test_accuracy:.4f}\")"
      ],
      "metadata": {
        "colab": {
          "base_uri": "https://localhost:8080/"
        },
        "id": "TJG1f1MHrQEF",
        "outputId": "7226e854-254e-4f98-8a70-4166cb464a46"
      },
      "execution_count": 29,
      "outputs": [
        {
          "output_type": "stream",
          "name": "stdout",
          "text": [
            "Training Accuracy: 1.0000\n",
            "Testing Accuracy: 0.8889\n"
          ]
        }
      ]
    },
    {
      "cell_type": "code",
      "execution_count": 28,
      "metadata": {
        "id": "iFIElUnmdbdl",
        "colab": {
          "base_uri": "https://localhost:8080/"
        },
        "outputId": "ba00951d-6764-44d3-fbaf-eba00e44774a"
      },
      "outputs": [
        {
          "output_type": "stream",
          "name": "stdout",
          "text": [
            "              precision    recall  f1-score   support\n",
            "\n",
            "           0       0.91      0.90      0.91       238\n",
            "           1       0.85      0.87      0.86       228\n",
            "           2       0.92      0.91      0.91       233\n",
            "           3       0.88      0.87      0.88       223\n",
            "           4       0.88      0.88      0.88       230\n",
            "\n",
            "    accuracy                           0.89      1152\n",
            "   macro avg       0.89      0.89      0.89      1152\n",
            "weighted avg       0.89      0.89      0.89      1152\n",
            "\n"
          ]
        }
      ],
      "source": [
        "print(classification_report(y_test, y_test_pred))"
      ]
    }
  ],
  "metadata": {
    "colab": {
      "provenance": []
    },
    "kernelspec": {
      "display_name": "Python 3",
      "name": "python3"
    },
    "language_info": {
      "name": "python"
    }
  },
  "nbformat": 4,
  "nbformat_minor": 0
}